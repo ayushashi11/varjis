{
 "cells": [
  {
   "cell_type": "code",
   "execution_count": 1,
   "id": "d2f25fce-b7b8-4315-b465-7f96c4fa41c3",
   "metadata": {},
   "outputs": [],
   "source": [
    "import pyaudio\n",
    "import numpy as np\n",
    "\n",
    "CHUNK = 2**11\n",
    "RATE = 44100\n"
   ]
  },
  {
   "cell_type": "code",
   "execution_count": 7,
   "id": "a8a7f35c-c1d9-422c-a8b7-8147d2271dce",
   "metadata": {},
   "outputs": [
    {
     "name": "stderr",
     "output_type": "stream",
     "text": [
      "ALSA lib pcm.c:2722:(snd_pcm_open_noupdate) Unknown PCM cards.pcm.rear\n",
      "ALSA lib pcm.c:2722:(snd_pcm_open_noupdate) Unknown PCM cards.pcm.center_lfe\n",
      "ALSA lib pcm.c:2722:(snd_pcm_open_noupdate) Unknown PCM cards.pcm.side\n",
      "ALSA lib pcm_route.c:878:(find_matching_chmap) Found no matching channel map\n",
      "ALSA lib pcm_route.c:878:(find_matching_chmap) Found no matching channel map\n",
      "ALSA lib pcm_route.c:878:(find_matching_chmap) Found no matching channel map\n",
      "ALSA lib pcm_route.c:878:(find_matching_chmap) Found no matching channel map\n",
      "Cannot connect to server socket err = No such file or directory\n",
      "Cannot connect to server request channel\n",
      "jack server is not running or cannot be started\n",
      "JackShmReadWritePtr::~JackShmReadWritePtr - Init not done for -1, skipping unlock\n",
      "JackShmReadWritePtr::~JackShmReadWritePtr - Init not done for -1, skipping unlock\n",
      "/tmp/ipykernel_3234588/65349296.py:6: DeprecationWarning: The binary mode of fromstring is deprecated, as it behaves surprisingly on unicode inputs. Use frombuffer instead\n",
      "  data = np.fromstring(stream.read(CHUNK),dtype=np.int16)\n"
     ]
    },
    {
     "name": "stdout",
     "output_type": "stream",
     "text": [
      "0429 00000 ###"
     ]
    }
   ],
   "source": [
    "\n",
    "p=pyaudio.PyAudio()\n",
    "stream=p.open(format=pyaudio.paInt16,channels=2,rate=RATE,input=True,\n",
    "              frames_per_buffer=CHUNK)\n",
    "\n",
    "for i in range(int(10*44100/1024)): #go for a few seconds\n",
    "    data = np.fromstring(stream.read(CHUNK),dtype=np.int16)\n",
    "    peak=np.average(np.abs(data))*2\n",
    "    bars=\"#\"*int(50*peak/2**16)\n",
    "    print(\"\\r%04d %05d %s\"%(i,peak,bars), end=\"\")\n",
    "\n",
    "stream.stop_stream()\n",
    "stream.close()\n",
    "p.terminate()"
   ]
  },
  {
   "cell_type": "code",
   "execution_count": null,
   "id": "b5df8cd1-d5ef-441d-a5d9-c3a6134aa9ab",
   "metadata": {},
   "outputs": [
    {
     "name": "stdout",
     "output_type": "stream",
     "text": [
      "Defaulting to user installation because normal site-packages is not writeable\n",
      "\u001b[33mDEPRECATION: Loading egg at /usr/local/lib/python3.12/site-packages/fildem-0.6.7-py3.12.egg is deprecated. pip 24.3 will enforce this behaviour change. A possible replacement is to use pip for package installation. Discussion can be found at https://github.com/pypa/pip/issues/12330\u001b[0m\u001b[33m\n",
      "\u001b[0mCollecting speechrecognition\n",
      "  Downloading SpeechRecognition-3.10.4-py2.py3-none-any.whl.metadata (28 kB)\n",
      "Requirement already satisfied: requests>=2.26.0 in /usr/lib/python3.12/site-packages (from speechrecognition) (2.31.0)\n",
      "Requirement already satisfied: typing-extensions in /home/top-d/.local/lib/python3.12/site-packages (from speechrecognition) (4.11.0)\n",
      "Requirement already satisfied: charset-normalizer<4,>=2 in /usr/lib/python3.12/site-packages (from requests>=2.26.0->speechrecognition) (3.3.2)\n",
      "Requirement already satisfied: idna<4,>=2.5 in /usr/lib/python3.12/site-packages (from requests>=2.26.0->speechrecognition) (3.7)\n",
      "Requirement already satisfied: urllib3<3,>=1.21.1 in /home/top-d/.local/lib/python3.12/site-packages (from requests>=2.26.0->speechrecognition) (2.2.1)\n",
      "Downloading SpeechRecognition-3.10.4-py2.py3-none-any.whl (32.8 MB)\n",
      "\u001b[2K   \u001b[38;2;114;156;31m━━━━━━━━━━━━━━━━━━━━━━━━━━━━━━━━━━━━━━━━\u001b[0m \u001b[32m32.8/32.8 MB\u001b[0m \u001b[31m1.8 MB/s\u001b[0m eta \u001b[36m0:00:00\u001b[0mm eta \u001b[36m0:00:01\u001b[0m[36m0:00:01\u001b[0m\n",
      "\u001b[?25h"
     ]
    }
   ],
   "source": [
    "%pip install speechrecognition"
   ]
  },
  {
   "cell_type": "code",
   "execution_count": null,
   "id": "7fd08eaa-6c89-4f72-b0f0-7d15834567e5",
   "metadata": {},
   "outputs": [],
   "source": []
  }
 ],
 "metadata": {
  "kernelspec": {
   "display_name": "Python 3 (ipykernel)",
   "language": "python",
   "name": "python3"
  },
  "language_info": {
   "codemirror_mode": {
    "name": "ipython",
    "version": 3
   },
   "file_extension": ".py",
   "mimetype": "text/x-python",
   "name": "python",
   "nbconvert_exporter": "python",
   "pygments_lexer": "ipython3",
   "version": "3.12.4"
  }
 },
 "nbformat": 4,
 "nbformat_minor": 5
}
